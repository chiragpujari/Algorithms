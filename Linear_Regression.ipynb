{
 "cells": [
  {
   "cell_type": "code",
   "execution_count": 21,
   "metadata": {},
   "outputs": [
    {
     "name": "stdout",
     "output_type": "stream",
     "text": [
      "Enter X: 65\n",
      "Enter Y: 70\n",
      "Line X on Y: 68.6067798762\n",
      "Line Y on X: 57.5605422418\n"
     ]
    },
    {
     "data": {
      "image/png": "[encoded data removed]",
      "text/plain": [
       "<matplotlib.figure.Figure at 0x7ff00bd94dd0>"
      ]
     },
     "metadata": {},
     "output_type": "display_data"
    }
   ],
   "source": [
    "import numpy as np\n",
    "import matplotlib.pyplot as plt\n",
    "import math\n",
    "\n",
    "x=np.array([65,66,67,67,68,69,70,72])\n",
    "y=np.array([67,68,65,68,72,72,69,71])\n",
    "\n",
    "def correlation(df1,df2):\n",
    "    sp1=df1\n",
    "    sp2=df2\n",
    "    n=sp1.shape[0]\n",
    "    sp1_squared=sp1**2\n",
    "    sp2_squared=sp2**2\n",
    "    sp12=sp1*sp2\n",
    "    cov=(sp12.sum()/n)-(sp1.mean()*sp2.mean())\n",
    "    x=(sp1_squared.sum()/n)-(sp1.mean()**2)\n",
    "    y=(sp2_squared.sum()/n)-(sp2.mean()**2)\n",
    "    denom=math.sqrt(x*y)\n",
    "    correlation=cov/denom\n",
    "    return correlation\n",
    "\n",
    "def sigma(df1,df2):\n",
    "    x2=df1**2\n",
    "    y2=df2**2\n",
    "    sigma_u2=x2.sum()/float(x.size) - (x.mean()**2)\n",
    "    sigma_v2=y2.sum()/float(y.size) - (y.mean()**2)\n",
    "    return sigma_u2,sigma_v2\n",
    "\n",
    "def square_root(sigma):\n",
    "    sqrt=[]\n",
    "    for sig in sigma:\n",
    "        sqrt.append(math.sqrt(sig))\n",
    "    return sqrt  \n",
    "\n",
    "def plot_XY(df1,df2,lx,ly):\n",
    "    plt.scatter(df1,df2)\n",
    "    plt.axvline(x=lx, color='r',linewidth=2,label='Line X on Y')\n",
    "    plt.axhline(y=ly, color='b',linewidth=2,label='Line Y on X')\n",
    "    plt.legend()\n",
    "    plt.show()\n",
    "    \n",
    "def regression(x,y):\n",
    "    U=x-x.mean()\n",
    "    V=y-y.mean()\n",
    "    r=correlation(x,y)\n",
    "    u2,v2=square_root(sigma(x,y))\n",
    "    x1=float(raw_input(\"Enter X: \"))\n",
    "    y1=float(raw_input(\"Enter Y: \"))\n",
    "    x=x.mean()+(r*(u2/v2))*(-y.mean())+((r*(u2/v2))*y1)\n",
    "    y=y.mean()+(r*(v2/u2))*(-x.mean())+((r*(u2/v2))*x1)\n",
    "    return x,y\n",
    "\n",
    "    \n",
    "linex,liney=regression(x,y)    \n",
    "print \"Line X on Y: {}\\nLine Y on X: {}\".format(linex,liney)\n",
    "plot_XY(x,y,linex,liney)"
   ]
  }
 ],
 "metadata": {
  "kernelspec": {
   "display_name": "Python 2",
   "language": "python",
   "name": "python2"
  },
  "language_info": {
   "codemirror_mode": {
    "name": "ipython",
    "version": 2
   },
   "file_extension": ".py",
   "mimetype": "text/x-python",
   "name": "python",
   "nbconvert_exporter": "python",
   "pygments_lexer": "ipython2",
   "version": "2.7.14"
  }
 },
 "nbformat": 4,
 "nbformat_minor": 2
}
